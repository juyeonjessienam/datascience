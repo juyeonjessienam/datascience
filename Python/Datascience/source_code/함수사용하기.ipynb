{
 "cells": [
  {
   "cell_type": "code",
   "execution_count": 3,
   "metadata": {
    "collapsed": true
   },
   "outputs": [],
   "source": [
    "from tkinter import *"
   ]
  },
  {
   "cell_type": "code",
   "execution_count": 5,
   "metadata": {},
   "outputs": [
    {
     "name": "stdout",
     "output_type": "stream",
     "text": [
      "나를 호출했군요\n",
      "내가 실행될 코드입니다.\n"
     ]
    }
   ],
   "source": [
    "def f1() : #함수정의\n",
    "    print(\"나를 호출했군요\")\n",
    "    print(\"내가 실행될 코드입니다.\")\n",
    "    \n",
    "f1()"
   ]
  },
  {
   "cell_type": "code",
   "execution_count": 7,
   "metadata": {},
   "outputs": [
    {
     "name": "stdout",
     "output_type": "stream",
     "text": [
      "나는 f2입니다.\n",
      "내가 실행될 코드입니다.\n",
      "\n",
      "나는 f3입니다.\n",
      "내가 실행될 코드입니다.\n"
     ]
    }
   ],
   "source": [
    "def f2() : #함수정의\n",
    "    print(\"나는 f2입니다.\")\n",
    "    print(\"내가 실행될 코드입니다.\")\n",
    "def f3() : #함수정의\n",
    "    print(\"나는 f3입니다.\")\n",
    "    print(\"내가 실행될 코드입니다.\")\n",
    "    \n",
    "f2()\n",
    "print()\n",
    "f3()"
   ]
  },
  {
   "cell_type": "code",
   "execution_count": null,
   "metadata": {},
   "outputs": [
    {
     "name": "stdout",
     "output_type": "stream",
     "text": [
      "버튼을 누르셨군요\n",
      "300\n",
      "버튼을 누르셨군요\n",
      "300\n",
      "버튼을 누르셨군요\n",
      "300\n",
      "버튼을 누르셨군요\n",
      "300\n"
     ]
    }
   ],
   "source": [
    "def call(event):\n",
    "    print(\"버튼을 누르셨군요\")\n",
    "    a = 100\n",
    "    b = 200\n",
    "    print(a+b)\n",
    "    \n",
    "w = Tk()\n",
    "b = Button(w, text=\"합계\")\n",
    "b.pack()\n",
    "b.bind(\"<Button-1>\", call) #one 클릭에 대한 반응 -> call함수 불러옴\n",
    "\n",
    "w.mainloop()"
   ]
  },
  {
   "cell_type": "code",
   "execution_count": null,
   "metadata": {
    "collapsed": true
   },
   "outputs": [],
   "source": []
  }
 ],
 "metadata": {
  "kernelspec": {
   "display_name": "Python 3",
   "language": "python",
   "name": "python3"
  },
  "language_info": {
   "codemirror_mode": {
    "name": "ipython",
    "version": 3
   },
   "file_extension": ".py",
   "mimetype": "text/x-python",
   "name": "python",
   "nbconvert_exporter": "python",
   "pygments_lexer": "ipython3",
   "version": "3.6.3"
  }
 },
 "nbformat": 4,
 "nbformat_minor": 2
}
