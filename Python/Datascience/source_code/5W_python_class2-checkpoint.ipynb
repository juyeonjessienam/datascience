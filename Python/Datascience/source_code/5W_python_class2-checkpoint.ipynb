{
 "cells": [
  {
   "cell_type": "code",
   "execution_count": 1,
   "metadata": {},
   "outputs": [
    {
     "ename": "NameError",
     "evalue": "name 'random' is not defined",
     "output_type": "error",
     "traceback": [
      "\u001b[1;31m---------------------------------------------------------------------------\u001b[0m",
      "\u001b[1;31mNameError\u001b[0m                                 Traceback (most recent call last)",
      "\u001b[1;32m<ipython-input-1-67edfaa16e8a>\u001b[0m in \u001b[0;36m<module>\u001b[1;34m()\u001b[0m\n\u001b[1;32m----> 1\u001b[1;33m \u001b[0mnumber\u001b[0m \u001b[1;33m=\u001b[0m \u001b[0mrandom\u001b[0m\u001b[1;33m.\u001b[0m\u001b[0mrandint\u001b[0m\u001b[1;33m(\u001b[0m\u001b[1;36m1\u001b[0m\u001b[1;33m,\u001b[0m \u001b[1;36m100\u001b[0m\u001b[1;33m)\u001b[0m\u001b[1;33m\u001b[0m\u001b[0m\n\u001b[0m\u001b[0;32m      2\u001b[0m \u001b[0mnumber\u001b[0m\u001b[1;33m\u001b[0m\u001b[0m\n\u001b[0;32m      3\u001b[0m \u001b[1;33m\u001b[0m\u001b[0m\n\u001b[0;32m      4\u001b[0m \u001b[0mprint\u001b[0m\u001b[1;33m(\u001b[0m\u001b[1;34m\"1부터 100사이의 숫자를 맞추어주세요.\"\u001b[0m\u001b[1;33m)\u001b[0m\u001b[1;33m\u001b[0m\u001b[0m\n\u001b[0;32m      5\u001b[0m \u001b[0mtries\u001b[0m \u001b[1;33m=\u001b[0m \u001b[1;36m0\u001b[0m\u001b[1;33m\u001b[0m\u001b[0m\n",
      "\u001b[1;31mNameError\u001b[0m: name 'random' is not defined"
     ]
    }
   ],
   "source": [
    "number = random.randint(1, 100)\n",
    "number\n",
    "\n",
    "print(\"1부터 100사이의 숫자를 맞추어주세요.\")\n",
    "tries = 0\n",
    "\n",
    "while tries < 10:\n",
    "    guess = int(input(\"숫자를 입력하세요\"))\n",
    "    tries = tries + 1\n",
    "    if guess == number:\n",
    "        print(\"정답입니다.\")\n",
    "        break\n",
    "    else :\n",
    "        print(\"오답입니다.\")\n",
    "        if guess < number:\n",
    "            print(\"답보다 작음\")\n",
    "        elif guess > number:\n",
    "            print(\"답보다 큼\")"
   ]
  },
  {
   "cell_type": "code",
   "execution_count": 2,
   "metadata": {
    "collapsed": true
   },
   "outputs": [],
   "source": [
    "import random"
   ]
  },
  {
   "cell_type": "code",
   "execution_count": 3,
   "metadata": {},
   "outputs": [
    {
     "name": "stdout",
     "output_type": "stream",
     "text": [
      "1부터 100사이의 숫자를 맞추어주세요.\n",
      "숫자를 입력하세요44\n",
      "오답입니다.\n",
      "답보다 작음\n",
      "숫자를 입력하세요66\n",
      "오답입니다.\n",
      "답보다 큼\n",
      "숫자를 입력하세요55\n",
      "오답입니다.\n",
      "답보다 큼\n",
      "숫자를 입력하세요50\n",
      "오답입니다.\n",
      "답보다 큼\n",
      "숫자를 입력하세요47\n",
      "오답입니다.\n",
      "답보다 작음\n",
      "숫자를 입력하세요48\n",
      "오답입니다.\n",
      "답보다 작음\n",
      "숫자를 입력하세요49\n",
      "정답입니다.\n"
     ]
    }
   ],
   "source": [
    "number = random.randint(1, 100)\n",
    "number\n",
    "\n",
    "print(\"1부터 100사이의 숫자를 맞추어주세요.\")\n",
    "tries = 0\n",
    "\n",
    "while tries < 10:\n",
    "    guess = int(input(\"숫자를 입력하세요\"))\n",
    "    tries = tries + 1\n",
    "    if guess == number:\n",
    "        print(\"정답입니다.\")\n",
    "        break\n",
    "    else :\n",
    "        print(\"오답입니다.\")\n",
    "        if guess < number:\n",
    "            print(\"답보다 작음\")\n",
    "        elif guess > number:\n",
    "            print(\"답보다 큼\")"
   ]
  },
  {
   "cell_type": "code",
   "execution_count": null,
   "metadata": {
    "collapsed": true
   },
   "outputs": [],
   "source": []
  }
 ],
 "metadata": {
  "kernelspec": {
   "display_name": "Python 3",
   "language": "python",
   "name": "python3"
  },
  "language_info": {
   "codemirror_mode": {
    "name": "ipython",
    "version": 3
   },
   "file_extension": ".py",
   "mimetype": "text/x-python",
   "name": "python",
   "nbconvert_exporter": "python",
   "pygments_lexer": "ipython3",
   "version": "3.6.3"
  }
 },
 "nbformat": 4,
 "nbformat_minor": 2
}
