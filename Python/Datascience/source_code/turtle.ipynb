{
 "cells": [
  {
   "cell_type": "code",
   "execution_count": 5,
   "metadata": {
    "collapsed": true
   },
   "outputs": [],
   "source": [
    "import turtle"
   ]
  },
  {
   "cell_type": "code",
   "execution_count": 6,
   "metadata": {
    "collapsed": true
   },
   "outputs": [],
   "source": [
    "t = turtle.Pen()"
   ]
  },
  {
   "cell_type": "code",
   "execution_count": null,
   "metadata": {},
   "outputs": [
    {
     "name": "stdout",
     "output_type": "stream",
     "text": [
      "왼쪽:left / 오른쪽: rightleft\n",
      "왼쪽:left / 오른쪽: rightleft\n",
      "왼쪽:left / 오른쪽: rightright\n"
     ]
    }
   ],
   "source": [
    "while True : #무한루프\n",
    "    direction = input(\"왼쪽:left / 오른쪽: right\")\n",
    "    if direction == \"left\":\n",
    "        t.left(60)\n",
    "        t.forward(50)\n",
    "    if direction == \"right\":\n",
    "        t.right(60)\n",
    "        t.forward(50)\n",
    "    "
   ]
  },
  {
   "cell_type": "code",
   "execution_count": null,
   "metadata": {
    "collapsed": true
   },
   "outputs": [],
   "source": []
  }
 ],
 "metadata": {
  "kernelspec": {
   "display_name": "Python 3",
   "language": "python",
   "name": "python3"
  },
  "language_info": {
   "codemirror_mode": {
    "name": "ipython",
    "version": 3
   },
   "file_extension": ".py",
   "mimetype": "text/x-python",
   "name": "python",
   "nbconvert_exporter": "python",
   "pygments_lexer": "ipython3",
   "version": "3.6.3"
  }
 },
 "nbformat": 4,
 "nbformat_minor": 2
}
